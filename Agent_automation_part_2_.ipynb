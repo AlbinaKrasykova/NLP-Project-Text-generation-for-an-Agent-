{
  "cells": [
    {
      "cell_type": "code",
      "execution_count": 324,
      "metadata": {
        "colab": {
          "base_uri": "https://localhost:8080/"
        },
        "id": "SvKiP01C7YvR",
        "outputId": "922e8ef0-b893-4f1c-a7ae-3df0f0d6320b"
      },
      "outputs": [
        {
          "output_type": "stream",
          "name": "stdout",
          "text": [
            "Looking in indexes: https://pypi.org/simple, https://us-python.pkg.dev/colab-wheels/public/simple/\n",
            "Requirement already satisfied: sentence-transformers in /usr/local/lib/python3.8/dist-packages (2.2.2)\n",
            "Requirement already satisfied: tqdm in /usr/local/lib/python3.8/dist-packages (from sentence-transformers) (4.64.1)\n",
            "Requirement already satisfied: torch>=1.6.0 in /usr/local/lib/python3.8/dist-packages (from sentence-transformers) (1.13.0+cu116)\n",
            "Requirement already satisfied: torchvision in /usr/local/lib/python3.8/dist-packages (from sentence-transformers) (0.14.0+cu116)\n",
            "Requirement already satisfied: nltk in /usr/local/lib/python3.8/dist-packages (from sentence-transformers) (3.7)\n",
            "Requirement already satisfied: huggingface-hub>=0.4.0 in /usr/local/lib/python3.8/dist-packages (from sentence-transformers) (0.11.1)\n",
            "Requirement already satisfied: transformers<5.0.0,>=4.6.0 in /usr/local/lib/python3.8/dist-packages (from sentence-transformers) (4.25.1)\n",
            "Requirement already satisfied: scipy in /usr/local/lib/python3.8/dist-packages (from sentence-transformers) (1.7.3)\n",
            "Requirement already satisfied: scikit-learn in /usr/local/lib/python3.8/dist-packages (from sentence-transformers) (1.0.2)\n",
            "Requirement already satisfied: numpy in /usr/local/lib/python3.8/dist-packages (from sentence-transformers) (1.21.6)\n",
            "Requirement already satisfied: sentencepiece in /usr/local/lib/python3.8/dist-packages (from sentence-transformers) (0.1.97)\n",
            "Requirement already satisfied: typing-extensions>=3.7.4.3 in /usr/local/lib/python3.8/dist-packages (from huggingface-hub>=0.4.0->sentence-transformers) (4.4.0)\n",
            "Requirement already satisfied: pyyaml>=5.1 in /usr/local/lib/python3.8/dist-packages (from huggingface-hub>=0.4.0->sentence-transformers) (6.0)\n",
            "Requirement already satisfied: packaging>=20.9 in /usr/local/lib/python3.8/dist-packages (from huggingface-hub>=0.4.0->sentence-transformers) (21.3)\n",
            "Requirement already satisfied: filelock in /usr/local/lib/python3.8/dist-packages (from huggingface-hub>=0.4.0->sentence-transformers) (3.8.0)\n",
            "Requirement already satisfied: requests in /usr/local/lib/python3.8/dist-packages (from huggingface-hub>=0.4.0->sentence-transformers) (2.23.0)\n",
            "Requirement already satisfied: pyparsing!=3.0.5,>=2.0.2 in /usr/local/lib/python3.8/dist-packages (from packaging>=20.9->huggingface-hub>=0.4.0->sentence-transformers) (3.0.9)\n",
            "Requirement already satisfied: tokenizers!=0.11.3,<0.14,>=0.11.1 in /usr/local/lib/python3.8/dist-packages (from transformers<5.0.0,>=4.6.0->sentence-transformers) (0.13.2)\n",
            "Requirement already satisfied: regex!=2019.12.17 in /usr/local/lib/python3.8/dist-packages (from transformers<5.0.0,>=4.6.0->sentence-transformers) (2022.6.2)\n",
            "Requirement already satisfied: joblib in /usr/local/lib/python3.8/dist-packages (from nltk->sentence-transformers) (1.2.0)\n",
            "Requirement already satisfied: click in /usr/local/lib/python3.8/dist-packages (from nltk->sentence-transformers) (7.1.2)\n",
            "Requirement already satisfied: chardet<4,>=3.0.2 in /usr/local/lib/python3.8/dist-packages (from requests->huggingface-hub>=0.4.0->sentence-transformers) (3.0.4)\n",
            "Requirement already satisfied: certifi>=2017.4.17 in /usr/local/lib/python3.8/dist-packages (from requests->huggingface-hub>=0.4.0->sentence-transformers) (2022.9.24)\n",
            "Requirement already satisfied: urllib3!=1.25.0,!=1.25.1,<1.26,>=1.21.1 in /usr/local/lib/python3.8/dist-packages (from requests->huggingface-hub>=0.4.0->sentence-transformers) (1.24.3)\n",
            "Requirement already satisfied: idna<3,>=2.5 in /usr/local/lib/python3.8/dist-packages (from requests->huggingface-hub>=0.4.0->sentence-transformers) (2.10)\n",
            "Requirement already satisfied: threadpoolctl>=2.0.0 in /usr/local/lib/python3.8/dist-packages (from scikit-learn->sentence-transformers) (3.1.0)\n",
            "Requirement already satisfied: pillow!=8.3.*,>=5.3.0 in /usr/local/lib/python3.8/dist-packages (from torchvision->sentence-transformers) (7.1.2)\n",
            "Looking in indexes: https://pypi.org/simple, https://us-python.pkg.dev/colab-wheels/public/simple/\n",
            "Requirement already satisfied: preprocessor in /usr/local/lib/python3.8/dist-packages (1.1.3)\n",
            "Looking in indexes: https://pypi.org/simple, https://us-python.pkg.dev/colab-wheels/public/simple/\n",
            "Requirement already satisfied: tweet-preprocessor in /usr/local/lib/python3.8/dist-packages (0.6.0)\n"
          ]
        }
      ],
      "source": [
        "# down forget to upload abcd file to the source file in here, chose 'upload the session storage' *\n",
        "# and download abcd file to your computer, it is right in the folder too *\n",
        "\n",
        "import json\n",
        "import pandas as pd\n",
        "from pandas import json_normalize\n",
        "import tensorflow as tf \n",
        "\n",
        "import pandas as pd\n",
        "import seaborn as sns\n",
        "import matplotlib.pyplot as plt\n",
        "import numpy as np\n",
        "from scipy import stats\n",
        "\n",
        "import os\n",
        "import pandas as pd\n",
        "!pip install -U sentence-transformers\n",
        "from sentence_transformers import SentenceTransformer\n",
        "embedder = SentenceTransformer('distilbert-base-nli-mean-tokens')\n",
        "\n",
        "import re\n",
        "!pip install preprocessor\n",
        "import preprocessor as p\n",
        "\n",
        "from sklearn.cluster import KMeans\n",
        "import matplotlib.pyplot as plt\n",
        "from wordcloud import WordCloud\n",
        "\n",
        "!pip install tweet-preprocessor\n",
        "import preprocessor as p\n"
      ]
    },
    {
      "cell_type": "markdown",
      "source": [
        "# New Section"
      ],
      "metadata": {
        "id": "XdIskVjYmAf7"
      }
    },
    {
      "cell_type": "code",
      "source": [
        "df1= pd.read_csv('/content/customer_clusters.txt')"
      ],
      "metadata": {
        "id": "ssU5I8Pbxy6V"
      },
      "execution_count": 325,
      "outputs": []
    },
    {
      "cell_type": "code",
      "source": [
        "df1.isna().sum()"
      ],
      "metadata": {
        "colab": {
          "base_uri": "https://localhost:8080/"
        },
        "id": "GREGjN_tyPXm",
        "outputId": "b5c5f875-0fce-4720-f0eb-b21d908deb14"
      },
      "execution_count": 326,
      "outputs": [
        {
          "output_type": "execute_result",
          "data": {
            "text/plain": [
              "Unnamed: 0                                0\n",
              "text_agent                                0\n",
              "category_agent                            0\n",
              "sub-category_agent                        0\n",
              "speaker_customer                          0\n",
              "text_customer                             0\n",
              "clean _text_custumer                     33\n",
              "cleaned_text_of_custumer_for_clusters    33\n",
              "cluster_for_custumer                      0\n",
              "clean_text_agent_corpus                   4\n",
              "dtype: int64"
            ]
          },
          "metadata": {},
          "execution_count": 326
        }
      ]
    },
    {
      "cell_type": "code",
      "source": [
        "df2= pd.read_csv('/content/csv_data (1).txt')"
      ],
      "metadata": {
        "id": "Gy_15SHHyIC3"
      },
      "execution_count": 327,
      "outputs": []
    },
    {
      "cell_type": "code",
      "source": [
        "df2.isna().sum()"
      ],
      "metadata": {
        "colab": {
          "base_uri": "https://localhost:8080/"
        },
        "id": "7JR7ceQbhHG9",
        "outputId": "d81b8ad1-b24d-4144-cb97-366ef5a2352f"
      },
      "execution_count": 328,
      "outputs": [
        {
          "output_type": "execute_result",
          "data": {
            "text/plain": [
              "Unnamed: 0                            0\n",
              "text_agent                            0\n",
              "category_agent                        0\n",
              "sub-category_agent                    0\n",
              "speaker_customer                      0\n",
              "text_customer                         0\n",
              "clean _text_agent                     0\n",
              "clean_text_agent_corpus               0\n",
              "cleaned_text_of_agent_for_clusters    0\n",
              "cluster_for_agent                     0\n",
              "dtype: int64"
            ]
          },
          "metadata": {},
          "execution_count": 328
        }
      ]
    },
    {
      "cell_type": "code",
      "source": [
        "df_m = pd.merge( df1, df2, left_index=True, right_index=True, how='inner', suffixes=('_agent', '_customer'))"
      ],
      "metadata": {
        "id": "Qbk5zudafzb6"
      },
      "execution_count": 329,
      "outputs": []
    },
    {
      "cell_type": "code",
      "source": [
        "df_m.isna().sum()"
      ],
      "metadata": {
        "colab": {
          "base_uri": "https://localhost:8080/"
        },
        "id": "cJMoYOw9yyIo",
        "outputId": "7b60d4c7-33e4-4dc6-fd20-42ecd94bed71"
      },
      "execution_count": 330,
      "outputs": [
        {
          "output_type": "execute_result",
          "data": {
            "text/plain": [
              "Unnamed: 0_agent                         0\n",
              "text_agent_agent                         0\n",
              "category_agent_agent                     0\n",
              "sub-category_agent_agent                 0\n",
              "speaker_customer_agent                   0\n",
              "text_customer_agent                      0\n",
              "clean _text_custumer                     1\n",
              "cleaned_text_of_custumer_for_clusters    1\n",
              "cluster_for_custumer                     0\n",
              "clean_text_agent_corpus_agent            0\n",
              "Unnamed: 0_customer                      0\n",
              "text_agent_customer                      0\n",
              "category_agent_customer                  0\n",
              "sub-category_agent_customer              0\n",
              "speaker_customer_customer                0\n",
              "text_customer_customer                   0\n",
              "clean _text_agent                        0\n",
              "clean_text_agent_corpus_customer         0\n",
              "cleaned_text_of_agent_for_clusters       0\n",
              "cluster_for_agent                        0\n",
              "dtype: int64"
            ]
          },
          "metadata": {},
          "execution_count": 330
        }
      ]
    },
    {
      "cell_type": "code",
      "source": [
        "one_hot_encoded_data = pd.get_dummies(df_m, columns = ['cluster_for_custumer'])\n"
      ],
      "metadata": {
        "id": "A9_5Uq8kzTEH"
      },
      "execution_count": 331,
      "outputs": []
    },
    {
      "cell_type": "code",
      "source": [
        "y = df_m['cluster_for_agent'] \n",
        "X = df_m['cluster_for_custumer'] \n",
        "\n",
        "# X = df.drop('cluster_for_agent', axis=1) \n",
        "#ValueError: Found input variables with inconsistent numbers of samples: [9, 400]"
      ],
      "metadata": {
        "id": "afC8mUnXhZnV"
      },
      "execution_count": 332,
      "outputs": []
    },
    {
      "cell_type": "code",
      "source": [
        "y.shape"
      ],
      "metadata": {
        "colab": {
          "base_uri": "https://localhost:8080/"
        },
        "id": "FJmox9nQ0oGa",
        "outputId": "1a555ddb-a962-4b60-feaf-d56aee84949e"
      },
      "execution_count": 333,
      "outputs": [
        {
          "output_type": "execute_result",
          "data": {
            "text/plain": [
              "(500,)"
            ]
          },
          "metadata": {},
          "execution_count": 333
        }
      ]
    },
    {
      "cell_type": "code",
      "source": [
        "X.shape"
      ],
      "metadata": {
        "colab": {
          "base_uri": "https://localhost:8080/"
        },
        "id": "xgWh2B630sZ4",
        "outputId": "595f3990-ec55-4c68-c7e1-7ef32013fd18"
      },
      "execution_count": 334,
      "outputs": [
        {
          "output_type": "execute_result",
          "data": {
            "text/plain": [
              "(500,)"
            ]
          },
          "metadata": {},
          "execution_count": 334
        }
      ]
    },
    {
      "cell_type": "code",
      "source": [
        "X = X.values.reshape(-1,1)"
      ],
      "metadata": {
        "id": "sOzG-A3A0TGw"
      },
      "execution_count": 335,
      "outputs": []
    },
    {
      "cell_type": "code",
      "source": [
        "X.shape"
      ],
      "metadata": {
        "colab": {
          "base_uri": "https://localhost:8080/"
        },
        "id": "gTAcmf-91kel",
        "outputId": "268e9aa3-a047-434b-e61d-bd8f0951fa8f"
      },
      "execution_count": 336,
      "outputs": [
        {
          "output_type": "execute_result",
          "data": {
            "text/plain": [
              "(500, 1)"
            ]
          },
          "metadata": {},
          "execution_count": 336
        }
      ]
    },
    {
      "cell_type": "code",
      "source": [
        "import pandas as pd\n",
        "from sklearn.model_selection import train_test_split\n",
        "from sklearn.linear_model import LogisticRegression\n",
        "from sklearn.feature_extraction.text import CountVectorizer,TfidfVectorizer\n",
        "\n",
        "X_train,X_test,y_train,y_test = train_test_split(X,y, test_size = 0.20, random_state = 123)"
      ],
      "metadata": {
        "id": "UnNhRCDMiDQi"
      },
      "execution_count": 337,
      "outputs": []
    },
    {
      "cell_type": "code",
      "source": [
        "from sklearn.metrics import roc_auc_score\n",
        "\n",
        "# 1. Create the LogisticRegression model object \n",
        "# YOUR CODE HERE\n",
        "model = LogisticRegression(max_iter=200)\n",
        "\n",
        "# 2. Fit the model to the transformed training data\n",
        "# YOUR CODE HERE\n",
        "model.fit(X_train, y_train)\n",
        "\n",
        "# 3. Use the predict_proba() method to make predictions on the test data \n",
        "# YOUR CODE HERE\n",
        "pred_log = model.predict(X_test)"
      ],
      "metadata": {
        "colab": {
          "base_uri": "https://localhost:8080/"
        },
        "id": "N09HnCVMvCxS",
        "outputId": "1153c345-eb43-4a3b-ba03-ad7594c8aaa3"
      },
      "execution_count": 338,
      "outputs": [
        {
          "output_type": "stream",
          "name": "stderr",
          "text": [
            "/usr/local/lib/python3.8/dist-packages/sklearn/linear_model/_logistic.py:814: ConvergenceWarning: lbfgs failed to converge (status=1):\n",
            "STOP: TOTAL NO. of ITERATIONS REACHED LIMIT.\n",
            "\n",
            "Increase the number of iterations (max_iter) or scale the data as shown in:\n",
            "    https://scikit-learn.org/stable/modules/preprocessing.html\n",
            "Please also refer to the documentation for alternative solver options:\n",
            "    https://scikit-learn.org/stable/modules/linear_model.html#logistic-regression\n",
            "  n_iter_i = _check_optimize_result(\n"
          ]
        }
      ]
    },
    {
      "cell_type": "code",
      "source": [
        "from sklearn.metrics import confusion_matrix\n",
        "confusion_matrix(y_test, pred_log)"
      ],
      "metadata": {
        "colab": {
          "base_uri": "https://localhost:8080/"
        },
        "id": "TCdgJc1NiNgn",
        "outputId": "72c90874-1de2-4fd1-ea6b-37c4e42ba506"
      },
      "execution_count": 339,
      "outputs": [
        {
          "output_type": "execute_result",
          "data": {
            "text/plain": [
              "array([[0, 0, 0, ..., 0, 0, 0],\n",
              "       [0, 0, 0, ..., 0, 0, 0],\n",
              "       [0, 0, 0, ..., 0, 0, 0],\n",
              "       ...,\n",
              "       [0, 0, 0, ..., 0, 0, 0],\n",
              "       [0, 0, 0, ..., 0, 0, 0],\n",
              "       [0, 0, 0, ..., 0, 0, 0]])"
            ]
          },
          "metadata": {},
          "execution_count": 339
        }
      ]
    },
    {
      "cell_type": "code",
      "source": [
        "from sklearn.metrics import precision_score, recall_score, f1_score\n",
        "precision = precision_score(y_test, pred_log,average='micro') # How much Virigincia iris are correctly identified?\n",
        "recall = recall_score(y_test, pred_log,average='micro') # How much Virginica predictions are correct?\n",
        "f1 = f1_score(y_test, pred_log,average='micro')\n",
        "print(precision, recall, f1)"
      ],
      "metadata": {
        "colab": {
          "base_uri": "https://localhost:8080/"
        },
        "id": "BIfrWdshiQwJ",
        "outputId": "a9e52916-a833-4440-de00-e0042d09b0ff"
      },
      "execution_count": 340,
      "outputs": [
        {
          "output_type": "stream",
          "name": "stdout",
          "text": [
            "0.01 0.01 0.01\n"
          ]
        }
      ]
    },
    {
      "cell_type": "code",
      "source": [
        "acc_log = round(model.score(X_train, y_train) * 100, 2)\n",
        "acc_log"
      ],
      "metadata": {
        "colab": {
          "base_uri": "https://localhost:8080/"
        },
        "id": "vrr83umEiT5v",
        "outputId": "f69b6952-1828-45e3-bd3a-d8046085e691"
      },
      "execution_count": 341,
      "outputs": [
        {
          "output_type": "execute_result",
          "data": {
            "text/plain": [
              "3.5"
            ]
          },
          "metadata": {},
          "execution_count": 341
        }
      ]
    },
    {
      "cell_type": "code",
      "source": [
        "print(pred_log)"
      ],
      "metadata": {
        "colab": {
          "base_uri": "https://localhost:8080/"
        },
        "id": "tKGvDI6o2CRk",
        "outputId": "1a2faa7a-2569-476d-fd40-57ab417ef31b"
      },
      "execution_count": 342,
      "outputs": [
        {
          "output_type": "stream",
          "name": "stdout",
          "text": [
            "[ 93  93  93  93  93  56  93  56  93  56  93  93  93  93  93  93  93  93\n",
            " 243  93  93  93  93  93  56 243  93  93  93  56  93  56  93  93  56 243\n",
            "  93  93  93  93  93  93  93  93 243  93 243  93 243 243 243 243 243  93\n",
            "  56  93  93  93  93  93  93  56 243  93  93  56  93  93  56  56  56  93\n",
            "  93  93 243  93  93  93  93  93 243  93  93  93  93  93  93  93  93  93\n",
            "  93  93  93  93  93  93  93  56  93  93]\n"
          ]
        }
      ]
    },
    {
      "cell_type": "code",
      "source": [
        "pred_log.shape"
      ],
      "metadata": {
        "colab": {
          "base_uri": "https://localhost:8080/"
        },
        "id": "wsiv__SH4k5R",
        "outputId": "96a0fa5a-326c-4006-d19b-13397cbc93e8"
      },
      "execution_count": 343,
      "outputs": [
        {
          "output_type": "execute_result",
          "data": {
            "text/plain": [
              "(100,)"
            ]
          },
          "metadata": {},
          "execution_count": 343
        }
      ]
    },
    {
      "cell_type": "code",
      "source": [
        "print(X_test)"
      ],
      "metadata": {
        "colab": {
          "base_uri": "https://localhost:8080/"
        },
        "id": "WL8XPpZk2OjZ",
        "outputId": "af27f736-9b84-4ee0-fa40-3e0767ccf548"
      },
      "execution_count": 344,
      "outputs": [
        {
          "output_type": "stream",
          "name": "stdout",
          "text": [
            "[[135]\n",
            " [234]\n",
            " [144]\n",
            " [ 85]\n",
            " [ 97]\n",
            " [  2]\n",
            " [124]\n",
            " [  3]\n",
            " [ 79]\n",
            " [ 16]\n",
            " [218]\n",
            " [ 85]\n",
            " [ 50]\n",
            " [183]\n",
            " [106]\n",
            " [ 86]\n",
            " [124]\n",
            " [ 56]\n",
            " [370]\n",
            " [183]\n",
            " [ 31]\n",
            " [245]\n",
            " [ 31]\n",
            " [227]\n",
            " [  2]\n",
            " [408]\n",
            " [283]\n",
            " [167]\n",
            " [233]\n",
            " [  7]\n",
            " [ 23]\n",
            " [  2]\n",
            " [ 28]\n",
            " [ 92]\n",
            " [  3]\n",
            " [417]\n",
            " [110]\n",
            " [ 51]\n",
            " [ 35]\n",
            " [ 75]\n",
            " [ 84]\n",
            " [163]\n",
            " [ 35]\n",
            " [ 28]\n",
            " [330]\n",
            " [ 84]\n",
            " [305]\n",
            " [ 23]\n",
            " [383]\n",
            " [361]\n",
            " [338]\n",
            " [426]\n",
            " [412]\n",
            " [ 92]\n",
            " [ 17]\n",
            " [261]\n",
            " [ 30]\n",
            " [164]\n",
            " [176]\n",
            " [209]\n",
            " [244]\n",
            " [  2]\n",
            " [360]\n",
            " [ 77]\n",
            " [ 42]\n",
            " [  6]\n",
            " [185]\n",
            " [124]\n",
            " [ 18]\n",
            " [  9]\n",
            " [  9]\n",
            " [123]\n",
            " [248]\n",
            " [243]\n",
            " [313]\n",
            " [248]\n",
            " [227]\n",
            " [ 98]\n",
            " [290]\n",
            " [134]\n",
            " [432]\n",
            " [ 51]\n",
            " [167]\n",
            " [207]\n",
            " [230]\n",
            " [227]\n",
            " [ 49]\n",
            " [240]\n",
            " [167]\n",
            " [ 52]\n",
            " [ 33]\n",
            " [262]\n",
            " [152]\n",
            " [173]\n",
            " [168]\n",
            " [162]\n",
            " [248]\n",
            " [  3]\n",
            " [124]\n",
            " [ 23]]\n"
          ]
        }
      ]
    },
    {
      "cell_type": "code",
      "source": [
        "X_test.flatten()\n"
      ],
      "metadata": {
        "colab": {
          "base_uri": "https://localhost:8080/"
        },
        "id": "ni_yEpTY4N0e",
        "outputId": "c976bcbf-f503-408d-c437-660eca8013e3"
      },
      "execution_count": 345,
      "outputs": [
        {
          "output_type": "execute_result",
          "data": {
            "text/plain": [
              "array([135, 234, 144,  85,  97,   2, 124,   3,  79,  16, 218,  85,  50,\n",
              "       183, 106,  86, 124,  56, 370, 183,  31, 245,  31, 227,   2, 408,\n",
              "       283, 167, 233,   7,  23,   2,  28,  92,   3, 417, 110,  51,  35,\n",
              "        75,  84, 163,  35,  28, 330,  84, 305,  23, 383, 361, 338, 426,\n",
              "       412,  92,  17, 261,  30, 164, 176, 209, 244,   2, 360,  77,  42,\n",
              "         6, 185, 124,  18,   9,   9, 123, 248, 243, 313, 248, 227,  98,\n",
              "       290, 134, 432,  51, 167, 207, 230, 227,  49, 240, 167,  52,  33,\n",
              "       262, 152, 173, 168, 162, 248,   3, 124,  23])"
            ]
          },
          "metadata": {},
          "execution_count": 345
        }
      ]
    },
    {
      "cell_type": "code",
      "source": [],
      "metadata": {
        "id": "YpxPX94m46o-"
      },
      "execution_count": 345,
      "outputs": []
    },
    {
      "cell_type": "code",
      "source": [
        "Cols = [[X_test,pred_log]]\n",
        " \n",
        "# Create the pandas DataFrame with column name is provided explicitly\n",
        "df = pd.DataFrame(Cols, columns=['X_text','pred'])"
      ],
      "metadata": {
        "id": "QhPM1nMs4E0G"
      },
      "execution_count": 346,
      "outputs": []
    },
    {
      "cell_type": "code",
      "source": [
        "data = {'Prediction': [93,  93,  93,  93,  93,  56,  93,  56,  93,  56,  93,  93,  93,  93,  93,  93,  93,  93,\n",
        " 243,  93,  93,  93,  93,  93,  56, 243,  93,  93,  93,  56,  93,  56,  93,  93,  56, 243,\n",
        "  93,  93,  93,  93,  93,  93,  93,  93, 243,  93, 243,  93, 243, 243, 243, 243, 243,  93,\n",
        "  56,  93,  93,  93,  93,  93,  93,  56, 243,  93,  93,  56,  93,  93,  56,  56,  56,  93,\n",
        "  93,  93, 243,  93,  93,  93,  93,  93, 243,  93,  93,  93,  93,  93,  93,  93,  93,  93,\n",
        "  93,  93,  93,  93,  93,  93,  93,  56,  93,  93],\n",
        "        'The real Agent said': [135, 234, 144,  85,  97,   2, 124,   3,  79,  16, 218,  85,  50,\n",
        "       183, 106,  86, 124,  56, 370, 183,  31, 245,  31, 227,   2, 408,\n",
        "       283, 167, 233,   7,  23,   2,  28,  92,   3, 417, 110,  51,  35,\n",
        "        75,  84, 163,  35,  28, 330,  84, 305,  23, 383, 361, 338, 426,\n",
        "       412,  92,  17, 261,  30, 164, 176, 209, 244,   2, 360,  77,  42,\n",
        "         6, 185, 124,  18,   9,   9, 123, 248, 243, 313, 248, 227,  98,\n",
        "       290, 134, 432,  51, 167, 207, 230, 227,  49, 240, 167,  52,  33,\n",
        "       262, 152, 173, 168, 162, 248,   3, 124,  23]}"
      ],
      "metadata": {
        "id": "yRnxMJuT6FiX"
      },
      "execution_count": 347,
      "outputs": []
    },
    {
      "cell_type": "code",
      "source": [
        "df_comparison = pd.DataFrame(data)"
      ],
      "metadata": {
        "id": "4nuDAfcg2UYL"
      },
      "execution_count": 348,
      "outputs": []
    },
    {
      "cell_type": "code",
      "source": [
        "df_comparison "
      ],
      "metadata": {
        "colab": {
          "base_uri": "https://localhost:8080/",
          "height": 424
        },
        "id": "H2Fkre7G9OZC",
        "outputId": "2f898bbe-4558-47d7-bdd7-8937444877a4"
      },
      "execution_count": 349,
      "outputs": [
        {
          "output_type": "execute_result",
          "data": {
            "text/plain": [
              "    Prediction  The real Agent said\n",
              "0           93                  135\n",
              "1           93                  234\n",
              "2           93                  144\n",
              "3           93                   85\n",
              "4           93                   97\n",
              "..         ...                  ...\n",
              "95          93                  162\n",
              "96          93                  248\n",
              "97          56                    3\n",
              "98          93                  124\n",
              "99          93                   23\n",
              "\n",
              "[100 rows x 2 columns]"
            ],
            "text/html": [
              "\n",
              "  <div id=\"df-efadb76c-a326-4c55-853c-803354883c5c\">\n",
              "    <div class=\"colab-df-container\">\n",
              "      <div>\n",
              "<style scoped>\n",
              "    .dataframe tbody tr th:only-of-type {\n",
              "        vertical-align: middle;\n",
              "    }\n",
              "\n",
              "    .dataframe tbody tr th {\n",
              "        vertical-align: top;\n",
              "    }\n",
              "\n",
              "    .dataframe thead th {\n",
              "        text-align: right;\n",
              "    }\n",
              "</style>\n",
              "<table border=\"1\" class=\"dataframe\">\n",
              "  <thead>\n",
              "    <tr style=\"text-align: right;\">\n",
              "      <th></th>\n",
              "      <th>Prediction</th>\n",
              "      <th>The real Agent said</th>\n",
              "    </tr>\n",
              "  </thead>\n",
              "  <tbody>\n",
              "    <tr>\n",
              "      <th>0</th>\n",
              "      <td>93</td>\n",
              "      <td>135</td>\n",
              "    </tr>\n",
              "    <tr>\n",
              "      <th>1</th>\n",
              "      <td>93</td>\n",
              "      <td>234</td>\n",
              "    </tr>\n",
              "    <tr>\n",
              "      <th>2</th>\n",
              "      <td>93</td>\n",
              "      <td>144</td>\n",
              "    </tr>\n",
              "    <tr>\n",
              "      <th>3</th>\n",
              "      <td>93</td>\n",
              "      <td>85</td>\n",
              "    </tr>\n",
              "    <tr>\n",
              "      <th>4</th>\n",
              "      <td>93</td>\n",
              "      <td>97</td>\n",
              "    </tr>\n",
              "    <tr>\n",
              "      <th>...</th>\n",
              "      <td>...</td>\n",
              "      <td>...</td>\n",
              "    </tr>\n",
              "    <tr>\n",
              "      <th>95</th>\n",
              "      <td>93</td>\n",
              "      <td>162</td>\n",
              "    </tr>\n",
              "    <tr>\n",
              "      <th>96</th>\n",
              "      <td>93</td>\n",
              "      <td>248</td>\n",
              "    </tr>\n",
              "    <tr>\n",
              "      <th>97</th>\n",
              "      <td>56</td>\n",
              "      <td>3</td>\n",
              "    </tr>\n",
              "    <tr>\n",
              "      <th>98</th>\n",
              "      <td>93</td>\n",
              "      <td>124</td>\n",
              "    </tr>\n",
              "    <tr>\n",
              "      <th>99</th>\n",
              "      <td>93</td>\n",
              "      <td>23</td>\n",
              "    </tr>\n",
              "  </tbody>\n",
              "</table>\n",
              "<p>100 rows × 2 columns</p>\n",
              "</div>\n",
              "      <button class=\"colab-df-convert\" onclick=\"convertToInteractive('df-efadb76c-a326-4c55-853c-803354883c5c')\"\n",
              "              title=\"Convert this dataframe to an interactive table.\"\n",
              "              style=\"display:none;\">\n",
              "        \n",
              "  <svg xmlns=\"http://www.w3.org/2000/svg\" height=\"24px\"viewBox=\"0 0 24 24\"\n",
              "       width=\"24px\">\n",
              "    <path d=\"M0 0h24v24H0V0z\" fill=\"none\"/>\n",
              "    <path d=\"M18.56 5.44l.94 2.06.94-2.06 2.06-.94-2.06-.94-.94-2.06-.94 2.06-2.06.94zm-11 1L8.5 8.5l.94-2.06 2.06-.94-2.06-.94L8.5 2.5l-.94 2.06-2.06.94zm10 10l.94 2.06.94-2.06 2.06-.94-2.06-.94-.94-2.06-.94 2.06-2.06.94z\"/><path d=\"M17.41 7.96l-1.37-1.37c-.4-.4-.92-.59-1.43-.59-.52 0-1.04.2-1.43.59L10.3 9.45l-7.72 7.72c-.78.78-.78 2.05 0 2.83L4 21.41c.39.39.9.59 1.41.59.51 0 1.02-.2 1.41-.59l7.78-7.78 2.81-2.81c.8-.78.8-2.07 0-2.86zM5.41 20L4 18.59l7.72-7.72 1.47 1.35L5.41 20z\"/>\n",
              "  </svg>\n",
              "      </button>\n",
              "      \n",
              "  <style>\n",
              "    .colab-df-container {\n",
              "      display:flex;\n",
              "      flex-wrap:wrap;\n",
              "      gap: 12px;\n",
              "    }\n",
              "\n",
              "    .colab-df-convert {\n",
              "      background-color: #E8F0FE;\n",
              "      border: none;\n",
              "      border-radius: 50%;\n",
              "      cursor: pointer;\n",
              "      display: none;\n",
              "      fill: #1967D2;\n",
              "      height: 32px;\n",
              "      padding: 0 0 0 0;\n",
              "      width: 32px;\n",
              "    }\n",
              "\n",
              "    .colab-df-convert:hover {\n",
              "      background-color: #E2EBFA;\n",
              "      box-shadow: 0px 1px 2px rgba(60, 64, 67, 0.3), 0px 1px 3px 1px rgba(60, 64, 67, 0.15);\n",
              "      fill: #174EA6;\n",
              "    }\n",
              "\n",
              "    [theme=dark] .colab-df-convert {\n",
              "      background-color: #3B4455;\n",
              "      fill: #D2E3FC;\n",
              "    }\n",
              "\n",
              "    [theme=dark] .colab-df-convert:hover {\n",
              "      background-color: #434B5C;\n",
              "      box-shadow: 0px 1px 3px 1px rgba(0, 0, 0, 0.15);\n",
              "      filter: drop-shadow(0px 1px 2px rgba(0, 0, 0, 0.3));\n",
              "      fill: #FFFFFF;\n",
              "    }\n",
              "  </style>\n",
              "\n",
              "      <script>\n",
              "        const buttonEl =\n",
              "          document.querySelector('#df-efadb76c-a326-4c55-853c-803354883c5c button.colab-df-convert');\n",
              "        buttonEl.style.display =\n",
              "          google.colab.kernel.accessAllowed ? 'block' : 'none';\n",
              "\n",
              "        async function convertToInteractive(key) {\n",
              "          const element = document.querySelector('#df-efadb76c-a326-4c55-853c-803354883c5c');\n",
              "          const dataTable =\n",
              "            await google.colab.kernel.invokeFunction('convertToInteractive',\n",
              "                                                     [key], {});\n",
              "          if (!dataTable) return;\n",
              "\n",
              "          const docLinkHtml = 'Like what you see? Visit the ' +\n",
              "            '<a target=\"_blank\" href=https://colab.research.google.com/notebooks/data_table.ipynb>data table notebook</a>'\n",
              "            + ' to learn more about interactive tables.';\n",
              "          element.innerHTML = '';\n",
              "          dataTable['output_type'] = 'display_data';\n",
              "          await google.colab.output.renderOutput(dataTable, element);\n",
              "          const docLink = document.createElement('div');\n",
              "          docLink.innerHTML = docLinkHtml;\n",
              "          element.appendChild(docLink);\n",
              "        }\n",
              "      </script>\n",
              "    </div>\n",
              "  </div>\n",
              "  "
            ]
          },
          "metadata": {},
          "execution_count": 349
        }
      ]
    },
    {
      "cell_type": "code",
      "source": [
        "df= pd.read_csv('/content/agent_clusters (2)')\n"
      ],
      "metadata": {
        "id": "sNKWD4p__0o4"
      },
      "execution_count": 350,
      "outputs": []
    },
    {
      "cell_type": "code",
      "source": [
        "df.head(3)"
      ],
      "metadata": {
        "colab": {
          "base_uri": "https://localhost:8080/",
          "height": 346
        },
        "id": "_C21FFgtBZKL",
        "outputId": "d0c26319-802a-4fb3-f6e8-5b37c844eb1c"
      },
      "execution_count": 351,
      "outputs": [
        {
          "output_type": "execute_result",
          "data": {
            "text/plain": [
              "   Unnamed: 0                          text_agent  category_agent  \\\n",
              "0           0                                 hi!  product_defect   \n",
              "1           1                 how can i help you?  product_defect   \n",
              "2           2  sure, may i have your name please?  product_defect   \n",
              "\n",
              "  sub-category_agent speaker_customer  \\\n",
              "0        return_size         customer   \n",
              "1        return_size         customer   \n",
              "2        return_size         customer   \n",
              "\n",
              "                                       text_customer  \\\n",
              "0  hi! i need to return an item, can you help me ...   \n",
              "1                                       crystal minh   \n",
              "2                              i got the wrong size.   \n",
              "\n",
              "                  clean _text_agent cleaned_text_of_agent_for_clusters  \\\n",
              "0                                hi                                 hi   \n",
              "1                how can i help you                 how can i help you   \n",
              "2  sure may i have your name please   sure may i have your name please   \n",
              "\n",
              "   cluster_for_agent           clean_text_agent_corpus  \n",
              "0                317                                hi  \n",
              "1                 12                how can i help you  \n",
              "2                142  sure may i have your name please  "
            ],
            "text/html": [
              "\n",
              "  <div id=\"df-6edda909-86b8-42c9-b2af-61665737ba66\">\n",
              "    <div class=\"colab-df-container\">\n",
              "      <div>\n",
              "<style scoped>\n",
              "    .dataframe tbody tr th:only-of-type {\n",
              "        vertical-align: middle;\n",
              "    }\n",
              "\n",
              "    .dataframe tbody tr th {\n",
              "        vertical-align: top;\n",
              "    }\n",
              "\n",
              "    .dataframe thead th {\n",
              "        text-align: right;\n",
              "    }\n",
              "</style>\n",
              "<table border=\"1\" class=\"dataframe\">\n",
              "  <thead>\n",
              "    <tr style=\"text-align: right;\">\n",
              "      <th></th>\n",
              "      <th>Unnamed: 0</th>\n",
              "      <th>text_agent</th>\n",
              "      <th>category_agent</th>\n",
              "      <th>sub-category_agent</th>\n",
              "      <th>speaker_customer</th>\n",
              "      <th>text_customer</th>\n",
              "      <th>clean _text_agent</th>\n",
              "      <th>cleaned_text_of_agent_for_clusters</th>\n",
              "      <th>cluster_for_agent</th>\n",
              "      <th>clean_text_agent_corpus</th>\n",
              "    </tr>\n",
              "  </thead>\n",
              "  <tbody>\n",
              "    <tr>\n",
              "      <th>0</th>\n",
              "      <td>0</td>\n",
              "      <td>hi!</td>\n",
              "      <td>product_defect</td>\n",
              "      <td>return_size</td>\n",
              "      <td>customer</td>\n",
              "      <td>hi! i need to return an item, can you help me ...</td>\n",
              "      <td>hi</td>\n",
              "      <td>hi</td>\n",
              "      <td>317</td>\n",
              "      <td>hi</td>\n",
              "    </tr>\n",
              "    <tr>\n",
              "      <th>1</th>\n",
              "      <td>1</td>\n",
              "      <td>how can i help you?</td>\n",
              "      <td>product_defect</td>\n",
              "      <td>return_size</td>\n",
              "      <td>customer</td>\n",
              "      <td>crystal minh</td>\n",
              "      <td>how can i help you</td>\n",
              "      <td>how can i help you</td>\n",
              "      <td>12</td>\n",
              "      <td>how can i help you</td>\n",
              "    </tr>\n",
              "    <tr>\n",
              "      <th>2</th>\n",
              "      <td>2</td>\n",
              "      <td>sure, may i have your name please?</td>\n",
              "      <td>product_defect</td>\n",
              "      <td>return_size</td>\n",
              "      <td>customer</td>\n",
              "      <td>i got the wrong size.</td>\n",
              "      <td>sure may i have your name please</td>\n",
              "      <td>sure may i have your name please</td>\n",
              "      <td>142</td>\n",
              "      <td>sure may i have your name please</td>\n",
              "    </tr>\n",
              "  </tbody>\n",
              "</table>\n",
              "</div>\n",
              "      <button class=\"colab-df-convert\" onclick=\"convertToInteractive('df-6edda909-86b8-42c9-b2af-61665737ba66')\"\n",
              "              title=\"Convert this dataframe to an interactive table.\"\n",
              "              style=\"display:none;\">\n",
              "        \n",
              "  <svg xmlns=\"http://www.w3.org/2000/svg\" height=\"24px\"viewBox=\"0 0 24 24\"\n",
              "       width=\"24px\">\n",
              "    <path d=\"M0 0h24v24H0V0z\" fill=\"none\"/>\n",
              "    <path d=\"M18.56 5.44l.94 2.06.94-2.06 2.06-.94-2.06-.94-.94-2.06-.94 2.06-2.06.94zm-11 1L8.5 8.5l.94-2.06 2.06-.94-2.06-.94L8.5 2.5l-.94 2.06-2.06.94zm10 10l.94 2.06.94-2.06 2.06-.94-2.06-.94-.94-2.06-.94 2.06-2.06.94z\"/><path d=\"M17.41 7.96l-1.37-1.37c-.4-.4-.92-.59-1.43-.59-.52 0-1.04.2-1.43.59L10.3 9.45l-7.72 7.72c-.78.78-.78 2.05 0 2.83L4 21.41c.39.39.9.59 1.41.59.51 0 1.02-.2 1.41-.59l7.78-7.78 2.81-2.81c.8-.78.8-2.07 0-2.86zM5.41 20L4 18.59l7.72-7.72 1.47 1.35L5.41 20z\"/>\n",
              "  </svg>\n",
              "      </button>\n",
              "      \n",
              "  <style>\n",
              "    .colab-df-container {\n",
              "      display:flex;\n",
              "      flex-wrap:wrap;\n",
              "      gap: 12px;\n",
              "    }\n",
              "\n",
              "    .colab-df-convert {\n",
              "      background-color: #E8F0FE;\n",
              "      border: none;\n",
              "      border-radius: 50%;\n",
              "      cursor: pointer;\n",
              "      display: none;\n",
              "      fill: #1967D2;\n",
              "      height: 32px;\n",
              "      padding: 0 0 0 0;\n",
              "      width: 32px;\n",
              "    }\n",
              "\n",
              "    .colab-df-convert:hover {\n",
              "      background-color: #E2EBFA;\n",
              "      box-shadow: 0px 1px 2px rgba(60, 64, 67, 0.3), 0px 1px 3px 1px rgba(60, 64, 67, 0.15);\n",
              "      fill: #174EA6;\n",
              "    }\n",
              "\n",
              "    [theme=dark] .colab-df-convert {\n",
              "      background-color: #3B4455;\n",
              "      fill: #D2E3FC;\n",
              "    }\n",
              "\n",
              "    [theme=dark] .colab-df-convert:hover {\n",
              "      background-color: #434B5C;\n",
              "      box-shadow: 0px 1px 3px 1px rgba(0, 0, 0, 0.15);\n",
              "      filter: drop-shadow(0px 1px 2px rgba(0, 0, 0, 0.3));\n",
              "      fill: #FFFFFF;\n",
              "    }\n",
              "  </style>\n",
              "\n",
              "      <script>\n",
              "        const buttonEl =\n",
              "          document.querySelector('#df-6edda909-86b8-42c9-b2af-61665737ba66 button.colab-df-convert');\n",
              "        buttonEl.style.display =\n",
              "          google.colab.kernel.accessAllowed ? 'block' : 'none';\n",
              "\n",
              "        async function convertToInteractive(key) {\n",
              "          const element = document.querySelector('#df-6edda909-86b8-42c9-b2af-61665737ba66');\n",
              "          const dataTable =\n",
              "            await google.colab.kernel.invokeFunction('convertToInteractive',\n",
              "                                                     [key], {});\n",
              "          if (!dataTable) return;\n",
              "\n",
              "          const docLinkHtml = 'Like what you see? Visit the ' +\n",
              "            '<a target=\"_blank\" href=https://colab.research.google.com/notebooks/data_table.ipynb>data table notebook</a>'\n",
              "            + ' to learn more about interactive tables.';\n",
              "          element.innerHTML = '';\n",
              "          dataTable['output_type'] = 'display_data';\n",
              "          await google.colab.output.renderOutput(dataTable, element);\n",
              "          const docLink = document.createElement('div');\n",
              "          docLink.innerHTML = docLinkHtml;\n",
              "          element.appendChild(docLink);\n",
              "        }\n",
              "      </script>\n",
              "    </div>\n",
              "  </div>\n",
              "  "
            ]
          },
          "metadata": {},
          "execution_count": 351
        }
      ]
    },
    {
      "cell_type": "code",
      "source": [
        "df_merged = pd.DataFrame(df[['cleaned_text_of_agent_for_clusters','text_customer']], index=df['cluster_for_agent'])"
      ],
      "metadata": {
        "id": "VYliaO81AYbJ"
      },
      "execution_count": 352,
      "outputs": []
    },
    {
      "cell_type": "code",
      "source": [
        "df_merged.head(3)"
      ],
      "metadata": {
        "colab": {
          "base_uri": "https://localhost:8080/",
          "height": 175
        },
        "id": "M-koIA2DBv86",
        "outputId": "db215a12-25be-4212-a8a1-236a1a2e3825"
      },
      "execution_count": 353,
      "outputs": [
        {
          "output_type": "execute_result",
          "data": {
            "text/plain": [
              "                                  cleaned_text_of_agent_for_clusters  \\\n",
              "cluster_for_agent                                                      \n",
              "317                                   hello how can i help you today   \n",
              "12                                 good afternoon how can i help you   \n",
              "142                according to the system you only are going to ...   \n",
              "\n",
              "                               text_customer  \n",
              "cluster_for_agent                             \n",
              "317                no, that's it. thank you!  \n",
              "12                     that's it. take care.  \n",
              "142                              sanya afzal  "
            ],
            "text/html": [
              "\n",
              "  <div id=\"df-c81dc45a-51de-46cd-abf2-047bca10b41a\">\n",
              "    <div class=\"colab-df-container\">\n",
              "      <div>\n",
              "<style scoped>\n",
              "    .dataframe tbody tr th:only-of-type {\n",
              "        vertical-align: middle;\n",
              "    }\n",
              "\n",
              "    .dataframe tbody tr th {\n",
              "        vertical-align: top;\n",
              "    }\n",
              "\n",
              "    .dataframe thead th {\n",
              "        text-align: right;\n",
              "    }\n",
              "</style>\n",
              "<table border=\"1\" class=\"dataframe\">\n",
              "  <thead>\n",
              "    <tr style=\"text-align: right;\">\n",
              "      <th></th>\n",
              "      <th>cleaned_text_of_agent_for_clusters</th>\n",
              "      <th>text_customer</th>\n",
              "    </tr>\n",
              "    <tr>\n",
              "      <th>cluster_for_agent</th>\n",
              "      <th></th>\n",
              "      <th></th>\n",
              "    </tr>\n",
              "  </thead>\n",
              "  <tbody>\n",
              "    <tr>\n",
              "      <th>317</th>\n",
              "      <td>hello how can i help you today</td>\n",
              "      <td>no, that's it. thank you!</td>\n",
              "    </tr>\n",
              "    <tr>\n",
              "      <th>12</th>\n",
              "      <td>good afternoon how can i help you</td>\n",
              "      <td>that's it. take care.</td>\n",
              "    </tr>\n",
              "    <tr>\n",
              "      <th>142</th>\n",
              "      <td>according to the system you only are going to ...</td>\n",
              "      <td>sanya afzal</td>\n",
              "    </tr>\n",
              "  </tbody>\n",
              "</table>\n",
              "</div>\n",
              "      <button class=\"colab-df-convert\" onclick=\"convertToInteractive('df-c81dc45a-51de-46cd-abf2-047bca10b41a')\"\n",
              "              title=\"Convert this dataframe to an interactive table.\"\n",
              "              style=\"display:none;\">\n",
              "        \n",
              "  <svg xmlns=\"http://www.w3.org/2000/svg\" height=\"24px\"viewBox=\"0 0 24 24\"\n",
              "       width=\"24px\">\n",
              "    <path d=\"M0 0h24v24H0V0z\" fill=\"none\"/>\n",
              "    <path d=\"M18.56 5.44l.94 2.06.94-2.06 2.06-.94-2.06-.94-.94-2.06-.94 2.06-2.06.94zm-11 1L8.5 8.5l.94-2.06 2.06-.94-2.06-.94L8.5 2.5l-.94 2.06-2.06.94zm10 10l.94 2.06.94-2.06 2.06-.94-2.06-.94-.94-2.06-.94 2.06-2.06.94z\"/><path d=\"M17.41 7.96l-1.37-1.37c-.4-.4-.92-.59-1.43-.59-.52 0-1.04.2-1.43.59L10.3 9.45l-7.72 7.72c-.78.78-.78 2.05 0 2.83L4 21.41c.39.39.9.59 1.41.59.51 0 1.02-.2 1.41-.59l7.78-7.78 2.81-2.81c.8-.78.8-2.07 0-2.86zM5.41 20L4 18.59l7.72-7.72 1.47 1.35L5.41 20z\"/>\n",
              "  </svg>\n",
              "      </button>\n",
              "      \n",
              "  <style>\n",
              "    .colab-df-container {\n",
              "      display:flex;\n",
              "      flex-wrap:wrap;\n",
              "      gap: 12px;\n",
              "    }\n",
              "\n",
              "    .colab-df-convert {\n",
              "      background-color: #E8F0FE;\n",
              "      border: none;\n",
              "      border-radius: 50%;\n",
              "      cursor: pointer;\n",
              "      display: none;\n",
              "      fill: #1967D2;\n",
              "      height: 32px;\n",
              "      padding: 0 0 0 0;\n",
              "      width: 32px;\n",
              "    }\n",
              "\n",
              "    .colab-df-convert:hover {\n",
              "      background-color: #E2EBFA;\n",
              "      box-shadow: 0px 1px 2px rgba(60, 64, 67, 0.3), 0px 1px 3px 1px rgba(60, 64, 67, 0.15);\n",
              "      fill: #174EA6;\n",
              "    }\n",
              "\n",
              "    [theme=dark] .colab-df-convert {\n",
              "      background-color: #3B4455;\n",
              "      fill: #D2E3FC;\n",
              "    }\n",
              "\n",
              "    [theme=dark] .colab-df-convert:hover {\n",
              "      background-color: #434B5C;\n",
              "      box-shadow: 0px 1px 3px 1px rgba(0, 0, 0, 0.15);\n",
              "      filter: drop-shadow(0px 1px 2px rgba(0, 0, 0, 0.3));\n",
              "      fill: #FFFFFF;\n",
              "    }\n",
              "  </style>\n",
              "\n",
              "      <script>\n",
              "        const buttonEl =\n",
              "          document.querySelector('#df-c81dc45a-51de-46cd-abf2-047bca10b41a button.colab-df-convert');\n",
              "        buttonEl.style.display =\n",
              "          google.colab.kernel.accessAllowed ? 'block' : 'none';\n",
              "\n",
              "        async function convertToInteractive(key) {\n",
              "          const element = document.querySelector('#df-c81dc45a-51de-46cd-abf2-047bca10b41a');\n",
              "          const dataTable =\n",
              "            await google.colab.kernel.invokeFunction('convertToInteractive',\n",
              "                                                     [key], {});\n",
              "          if (!dataTable) return;\n",
              "\n",
              "          const docLinkHtml = 'Like what you see? Visit the ' +\n",
              "            '<a target=\"_blank\" href=https://colab.research.google.com/notebooks/data_table.ipynb>data table notebook</a>'\n",
              "            + ' to learn more about interactive tables.';\n",
              "          element.innerHTML = '';\n",
              "          dataTable['output_type'] = 'display_data';\n",
              "          await google.colab.output.renderOutput(dataTable, element);\n",
              "          const docLink = document.createElement('div');\n",
              "          docLink.innerHTML = docLinkHtml;\n",
              "          element.appendChild(docLink);\n",
              "        }\n",
              "      </script>\n",
              "    </div>\n",
              "  </div>\n",
              "  "
            ]
          },
          "metadata": {},
          "execution_count": 353
        }
      ]
    },
    {
      "cell_type": "code",
      "source": [
        "print('The custumers text was:    ', df_merged['text_customer'][135].head(1))\n",
        "print(' ')\n",
        "print('The first option for an agnet to choose:          ', df_merged['cleaned_text_of_agent_for_clusters'][92].head(1))\n",
        "print(' ')\n",
        "print('The second option for an agnet to choose:         ', df_merged['cleaned_text_of_agent_for_clusters'][93].head(1))\n",
        "print(' ')\n",
        "print('The third option for an agnet to choose:          ', df_merged['cleaned_text_of_agent_for_clusters'][94].head(1))\n",
        "print(' ')\n",
        "print('The original cluster:')\n",
        "print(df_comparison['The real Agent said'][0])\n",
        "print(df_merged['cleaned_text_of_agent_for_clusters'][135].head(1))\n",
        "\n",
        "\n",
        "\n",
        "\n",
        "\n"
      ],
      "metadata": {
        "colab": {
          "base_uri": "https://localhost:8080/"
        },
        "id": "te9uSoDZB5Ke",
        "outputId": "b30e28a6-90f3-4e28-d80b-11ce93a1f60f"
      },
      "execution_count": 354,
      "outputs": [
        {
          "output_type": "stream",
          "name": "stdout",
          "text": [
            "The custumers text was:     cluster_for_agent\n",
            "135    i have tried that and it does not seem to be h...\n",
            "Name: text_customer, dtype: object\n",
            " \n",
            "The first option for an agnet to choose:           cluster_for_agent\n",
            "92    and to get your order details may i ask your u...\n",
            "Name: cleaned_text_of_agent_for_clusters, dtype: object\n",
            " \n",
            "The second option for an agnet to choose:          cluster_for_agent\n",
            "93    i can see your order details it looks like the...\n",
            "Name: cleaned_text_of_agent_for_clusters, dtype: object\n",
            " \n",
            "The third option for an agnet to choose:           cluster_for_agent\n",
            "94    oh im sorry to hear that but i should be able ...\n",
            "Name: cleaned_text_of_agent_for_clusters, dtype: object\n",
            " \n",
            "The original cluster:\n",
            "135\n",
            "cluster_for_agent\n",
            "135    ok i will write a report about the slow speeds...\n",
            "Name: cleaned_text_of_agent_for_clusters, dtype: object\n"
          ]
        }
      ]
    },
    {
      "cell_type": "code",
      "source": [
        "sentences = [ 'ok i will write a report about the slow speeds','and to get your order details may i ask your id',' i can see your order details it looks like the return was started',\n",
        "             'oh im sorry to hear that but i should be able to help you with that'] "
      ],
      "metadata": {
        "id": "iBJjBF8lMG6A"
      },
      "execution_count": 355,
      "outputs": []
    },
    {
      "cell_type": "code",
      "source": [
        "from sentence_transformers import SentenceTransformer\n",
        "\n",
        "model = SentenceTransformer('bert-base-nli-mean-tokens')"
      ],
      "metadata": {
        "id": "WdP9EMoBLXbv"
      },
      "execution_count": 356,
      "outputs": []
    },
    {
      "cell_type": "code",
      "source": [
        "\n",
        "sentence_embeddings = model.encode(sentences)"
      ],
      "metadata": {
        "id": "u5OKxllKLqAB"
      },
      "execution_count": 357,
      "outputs": []
    },
    {
      "cell_type": "code",
      "source": [
        "sentence_embeddings.shape"
      ],
      "metadata": {
        "colab": {
          "base_uri": "https://localhost:8080/"
        },
        "id": "Q2LBNDSlLvXU",
        "outputId": "644baf87-a489-48d0-d996-3f7c7ea970c5"
      },
      "execution_count": 358,
      "outputs": [
        {
          "output_type": "execute_result",
          "data": {
            "text/plain": [
              "(4, 768)"
            ]
          },
          "metadata": {},
          "execution_count": 358
        }
      ]
    },
    {
      "cell_type": "code",
      "source": [
        "from sklearn.metrics.pairwise import cosine_similarity"
      ],
      "metadata": {
        "id": "VdzNdEq-LzFI"
      },
      "execution_count": 359,
      "outputs": []
    },
    {
      "cell_type": "code",
      "source": [
        "cosine_similarity(\n",
        "    [sentence_embeddings[0]],\n",
        "    sentence_embeddings[1:]\n",
        ")"
      ],
      "metadata": {
        "colab": {
          "base_uri": "https://localhost:8080/"
        },
        "id": "FutrJheuL2QO",
        "outputId": "b5e1cc58-d0bd-4ca7-fb5f-a3f03fdc3a19"
      },
      "execution_count": 360,
      "outputs": [
        {
          "output_type": "execute_result",
          "data": {
            "text/plain": [
              "array([[0.4100319 , 0.36744207, 0.5529167 ]], dtype=float32)"
            ]
          },
          "metadata": {},
          "execution_count": 360
        }
      ]
    },
    {
      "cell_type": "code",
      "source": [
        "print('The best option for an agent to pick is a sentence from the cluster 94: oh im sorry to hear that but i should be able to help you with that')"
      ],
      "metadata": {
        "colab": {
          "base_uri": "https://localhost:8080/"
        },
        "id": "t92vNoF_MymP",
        "outputId": "13ec1001-2775-42ff-d040-dab7b9b09cb3"
      },
      "execution_count": 363,
      "outputs": [
        {
          "output_type": "stream",
          "name": "stdout",
          "text": [
            "The best option for an agent to pick is a sentence from the cluster 94: oh im sorry to hear that but i should be able to help you with that\n"
          ]
        }
      ]
    }
  ],
  "metadata": {
    "colab": {
      "provenance": []
    },
    "gpuClass": "premium",
    "kernelspec": {
      "display_name": "Python 3",
      "name": "python3"
    },
    "language_info": {
      "name": "python"
    }
  },
  "nbformat": 4,
  "nbformat_minor": 0
}