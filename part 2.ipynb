{
  "cells": [
    {
      "cell_type": "code",
      "execution_count": null,
      "metadata": {
        "colab": {
          "base_uri": "https://localhost:8080/"
        },
        "id": "SvKiP01C7YvR",
        "outputId": "4bbe60bc-5f34-4186-ee65-46259c090a36"
      },
      "outputs": [
        {
          "output_type": "stream",
          "name": "stdout",
          "text": [
            "Looking in indexes: https://pypi.org/simple, https://us-python.pkg.dev/colab-wheels/public/simple/\n",
            "Requirement already satisfied: sentence-transformers in /usr/local/lib/python3.8/dist-packages (2.2.2)\n",
            "Requirement already satisfied: sentencepiece in /usr/local/lib/python3.8/dist-packages (from sentence-transformers) (0.1.97)\n",
            "Requirement already satisfied: torchvision in /usr/local/lib/python3.8/dist-packages (from sentence-transformers) (0.14.0+cu116)\n",
            "Requirement already satisfied: scikit-learn in /usr/local/lib/python3.8/dist-packages (from sentence-transformers) (1.0.2)\n",
            "Requirement already satisfied: torch>=1.6.0 in /usr/local/lib/python3.8/dist-packages (from sentence-transformers) (1.13.0+cu116)\n",
            "Requirement already satisfied: nltk in /usr/local/lib/python3.8/dist-packages (from sentence-transformers) (3.7)\n",
            "Requirement already satisfied: numpy in /usr/local/lib/python3.8/dist-packages (from sentence-transformers) (1.21.6)\n",
            "Requirement already satisfied: transformers<5.0.0,>=4.6.0 in /usr/local/lib/python3.8/dist-packages (from sentence-transformers) (4.25.1)\n",
            "Requirement already satisfied: scipy in /usr/local/lib/python3.8/dist-packages (from sentence-transformers) (1.7.3)\n",
            "Requirement already satisfied: huggingface-hub>=0.4.0 in /usr/local/lib/python3.8/dist-packages (from sentence-transformers) (0.11.1)\n",
            "Requirement already satisfied: tqdm in /usr/local/lib/python3.8/dist-packages (from sentence-transformers) (4.64.1)\n",
            "Requirement already satisfied: pyyaml>=5.1 in /usr/local/lib/python3.8/dist-packages (from huggingface-hub>=0.4.0->sentence-transformers) (6.0)\n",
            "Requirement already satisfied: typing-extensions>=3.7.4.3 in /usr/local/lib/python3.8/dist-packages (from huggingface-hub>=0.4.0->sentence-transformers) (4.4.0)\n",
            "Requirement already satisfied: packaging>=20.9 in /usr/local/lib/python3.8/dist-packages (from huggingface-hub>=0.4.0->sentence-transformers) (21.3)\n",
            "Requirement already satisfied: requests in /usr/local/lib/python3.8/dist-packages (from huggingface-hub>=0.4.0->sentence-transformers) (2.23.0)\n",
            "Requirement already satisfied: filelock in /usr/local/lib/python3.8/dist-packages (from huggingface-hub>=0.4.0->sentence-transformers) (3.8.0)\n",
            "Requirement already satisfied: pyparsing!=3.0.5,>=2.0.2 in /usr/local/lib/python3.8/dist-packages (from packaging>=20.9->huggingface-hub>=0.4.0->sentence-transformers) (3.0.9)\n",
            "Requirement already satisfied: regex!=2019.12.17 in /usr/local/lib/python3.8/dist-packages (from transformers<5.0.0,>=4.6.0->sentence-transformers) (2022.6.2)\n",
            "Requirement already satisfied: tokenizers!=0.11.3,<0.14,>=0.11.1 in /usr/local/lib/python3.8/dist-packages (from transformers<5.0.0,>=4.6.0->sentence-transformers) (0.13.2)\n",
            "Requirement already satisfied: click in /usr/local/lib/python3.8/dist-packages (from nltk->sentence-transformers) (7.1.2)\n",
            "Requirement already satisfied: joblib in /usr/local/lib/python3.8/dist-packages (from nltk->sentence-transformers) (1.2.0)\n",
            "Requirement already satisfied: chardet<4,>=3.0.2 in /usr/local/lib/python3.8/dist-packages (from requests->huggingface-hub>=0.4.0->sentence-transformers) (3.0.4)\n",
            "Requirement already satisfied: urllib3!=1.25.0,!=1.25.1,<1.26,>=1.21.1 in /usr/local/lib/python3.8/dist-packages (from requests->huggingface-hub>=0.4.0->sentence-transformers) (1.24.3)\n",
            "Requirement already satisfied: certifi>=2017.4.17 in /usr/local/lib/python3.8/dist-packages (from requests->huggingface-hub>=0.4.0->sentence-transformers) (2022.9.24)\n",
            "Requirement already satisfied: idna<3,>=2.5 in /usr/local/lib/python3.8/dist-packages (from requests->huggingface-hub>=0.4.0->sentence-transformers) (2.10)\n",
            "Requirement already satisfied: threadpoolctl>=2.0.0 in /usr/local/lib/python3.8/dist-packages (from scikit-learn->sentence-transformers) (3.1.0)\n",
            "Requirement already satisfied: pillow!=8.3.*,>=5.3.0 in /usr/local/lib/python3.8/dist-packages (from torchvision->sentence-transformers) (7.1.2)\n",
            "Looking in indexes: https://pypi.org/simple, https://us-python.pkg.dev/colab-wheels/public/simple/\n",
            "Requirement already satisfied: preprocessor in /usr/local/lib/python3.8/dist-packages (1.1.3)\n",
            "Traceback (most recent call last):\n",
            "  File \"/usr/local/lib/python3.8/dist-packages/pip/_vendor/pkg_resources/__init__.py\", line 3021, in _dep_map\n",
            "    return self.__dep_map\n",
            "  File \"/usr/local/lib/python3.8/dist-packages/pip/_vendor/pkg_resources/__init__.py\", line 2815, in __getattr__\n",
            "    raise AttributeError(attr)\n",
            "AttributeError: _DistInfoDistribution__dep_map\n",
            "\n",
            "During handling of the above exception, another exception occurred:\n",
            "\n",
            "Traceback (most recent call last):\n",
            "  File \"/usr/local/lib/python3.8/dist-packages/pip/_internal/cli/base_command.py\", line 180, in _main\n",
            "    status = self.run(options, args)\n",
            "  File \"/usr/local/lib/python3.8/dist-packages/pip/_internal/cli/req_command.py\", line 199, in wrapper\n",
            "    return func(self, options, args)\n",
            "  File \"/usr/local/lib/python3.8/dist-packages/pip/_internal/commands/install.py\", line 385, in run\n",
            "    conflicts = self._determine_conflicts(to_install)\n",
            "  File \"/usr/local/lib/python3.8/dist-packages/pip/_internal/commands/install.py\", line 515, in _determine_conflicts\n",
            "    return check_install_conflicts(to_install)\n",
            "  File \"/usr/local/lib/python3.8/dist-packages/pip/_internal/operations/check.py\", line 103, in check_install_conflicts\n",
            "    package_set, _ = create_package_set_from_installed()\n",
            "  File \"/usr/local/lib/python3.8/dist-packages/pip/_internal/operations/check.py\", line 45, in create_package_set_from_installed\n",
            "    package_set[name] = PackageDetails(dist.version, dist.requires())\n",
            "  File \"/usr/local/lib/python3.8/dist-packages/pip/_vendor/pkg_resources/__init__.py\", line 2736, in requires\n",
            "    dm = self._dep_map\n",
            "  File \"/usr/local/lib/python3.8/dist-packages/pip/_vendor/pkg_resources/__init__.py\", line 3023, in _dep_map\n",
            "    self.__dep_map = self._compute_dependencies()\n",
            "  File \"/usr/local/lib/python3.8/dist-packages/pip/_vendor/pkg_resources/__init__.py\", line 3045, in _compute_dependencies\n",
            "    dm[s_extra] = list(frozenset(reqs_for_extra(extra)) - common)\n",
            "  File \"/usr/local/lib/python3.8/dist-packages/pip/_vendor/pkg_resources/__init__.py\", line 3037, in reqs_for_extra\n",
            "    if not req.marker or req.marker.evaluate({'extra': extra}):\n",
            "  File \"/usr/local/lib/python3.8/dist-packages/pip/_vendor/packaging/markers.py\", line 332, in evaluate\n",
            "    current_environment = default_environment()\n",
            "  File \"/usr/local/lib/python3.8/dist-packages/pip/_vendor/packaging/markers.py\", line 298, in default_environment\n",
            "    \"python_version\": \".\".join(platform.python_version_tuple()[:2]),\n",
            "KeyboardInterrupt\n",
            "\n",
            "During handling of the above exception, another exception occurred:\n",
            "\n",
            "Traceback (most recent call last):\n",
            "  File \"/usr/local/bin/pip3\", line 8, in <module>\n",
            "    sys.exit(main())\n",
            "  File \"/usr/local/lib/python3.8/dist-packages/pip/_internal/cli/main.py\", line 71, in main\n",
            "    return command.main(cmd_args)\n",
            "  File \"/usr/local/lib/python3.8/dist-packages/pip/_internal/cli/base_command.py\", line 104, in main\n",
            "    return self._main(args)\n",
            "  File \"/usr/local/lib/python3.8/dist-packages/pip/_internal/cli/base_command.py\", line 212, in _main\n",
            "    logger.critical(\"Operation cancelled by user\")\n",
            "  File \"/usr/lib/python3.8/logging/__init__.py\", line 1493, in critical\n",
            "    self._log(CRITICAL, msg, args, **kwargs)\n",
            "  File \"/usr/lib/python3.8/logging/__init__.py\", line 1587, in _log\n",
            "    record = self.makeRecord(self.name, level, fn, lno, msg, args,\n",
            "KeyboardInterrupt\n",
            "^C\n",
            "Looking in indexes: https://pypi.org/simple, https://us-python.pkg.dev/colab-wheels/public/simple/\n",
            "Requirement already satisfied: tweet-preprocessor in /usr/local/lib/python3.8/dist-packages (0.6.0)\n"
          ]
        }
      ],
      "source": [
        "# down forget to upload abcd file to the source file in here, chose 'upload the session storage' *\n",
        "# and download abcd file to your computer, it is right in the folder too *\n",
        "\n",
        "import json\n",
        "import pandas as pd\n",
        "from pandas import json_normalize\n",
        "import tensorflow as tf \n",
        "\n",
        "import pandas as pd\n",
        "import seaborn as sns\n",
        "import matplotlib.pyplot as plt\n",
        "import numpy as np\n",
        "from scipy import stats\n",
        "\n",
        "import os\n",
        "import pandas as pd\n",
        "!pip install -U sentence-transformers\n",
        "from sentence_transformers import SentenceTransformer\n",
        "embedder = SentenceTransformer('distilbert-base-nli-mean-tokens')\n",
        "\n",
        "import re\n",
        "!pip install preprocessor\n",
        "import preprocessor as p\n",
        "\n",
        "from sklearn.cluster import KMeans\n",
        "import matplotlib.pyplot as plt\n",
        "from wordcloud import WordCloud\n",
        "\n",
        "!pip install tweet-preprocessor\n",
        "import preprocessor as p\n"
      ]
    },
    {
      "cell_type": "markdown",
      "source": [
        "# New Section"
      ],
      "metadata": {
        "id": "XdIskVjYmAf7"
      }
    },
    {
      "cell_type": "code",
      "source": [
        "import pandas as pd\n",
        "df= pd.read_csv('/content/csv_data (1).txt')\n"
      ],
      "metadata": {
        "id": "UAZ1uZG4d7zT"
      },
      "execution_count": null,
      "outputs": []
    },
    {
      "cell_type": "code",
      "source": [
        "df"
      ],
      "metadata": {
        "colab": {
          "base_uri": "https://localhost:8080/",
          "height": 1000
        },
        "id": "Qk5pYw6sijgz",
        "outputId": "0062e279-86e3-4f32-990e-2c9353072932"
      },
      "execution_count": null,
      "outputs": [
        {
          "output_type": "execute_result",
          "data": {
            "text/plain": [
              "     Unnamed: 0                                         text_agent  \\\n",
              "0             0                                                hi!   \n",
              "1             1                                how can i help you?   \n",
              "2             2                 sure, may i have your name please?   \n",
              "3             3       thanks, may i ask the reason for the return?   \n",
              "4             4  ok, may i have your username, email address an...   \n",
              "..          ...                                                ...   \n",
              "495         495                         please give me one moment.   \n",
              "496         496  thank you for your patience. i've reviewed you...   \n",
              "497         497  can you please tell me the shipping status of ...   \n",
              "498         498  ok, no problem. i've already removed the extra...   \n",
              "499         499  thank you. i sincerely apologize for the incon...   \n",
              "\n",
              "     category_agent sub-category_agent speaker_customer  \\\n",
              "0    product_defect        return_size         customer   \n",
              "1    product_defect        return_size         customer   \n",
              "2    product_defect        return_size         customer   \n",
              "3    product_defect        return_size         customer   \n",
              "4    product_defect        return_size         customer   \n",
              "..              ...                ...              ...   \n",
              "495     order_issue    status_quantity         customer   \n",
              "496     order_issue    status_quantity         customer   \n",
              "497     order_issue    status_quantity         customer   \n",
              "498     order_issue    status_quantity         customer   \n",
              "499     order_issue    status_quantity         customer   \n",
              "\n",
              "                                         text_customer  \\\n",
              "0    hi! i need to return an item, can you help me ...   \n",
              "1                                         crystal minh   \n",
              "2                                i got the wrong size.   \n",
              "3                                 username: <username>   \n",
              "4                                              <email>   \n",
              "..                                                 ...   \n",
              "495                             email address: <email>   \n",
              "496  my email stating that i have a refund of $100 ...   \n",
              "497  im sorry no i would like to get a refund on th...   \n",
              "498                                                 ok   \n",
              "499                         that will be all thank you   \n",
              "\n",
              "                                     clean _text_agent  \\\n",
              "0                                                   hi   \n",
              "1                                   how can i help you   \n",
              "2                     sure may i have your name please   \n",
              "3           thanks may i ask the reason for the return   \n",
              "4    ok may i have your username email address and ...   \n",
              "..                                                 ...   \n",
              "495                          please give me one moment   \n",
              "496  thank you for your patience ive reviewed your ...   \n",
              "497  can you please tell me the shipping status of ...   \n",
              "498  ok no problem ive already removed the extra it...   \n",
              "499  thank you i sincerely apologize for the inconv...   \n",
              "\n",
              "                               clean_text_agent_corpus  \\\n",
              "0                                                   hi   \n",
              "1                                   how can i help you   \n",
              "2                     sure may i have your name please   \n",
              "3           thanks may i ask the reason for the return   \n",
              "4    ok may i have your username email address and ...   \n",
              "..                                                 ...   \n",
              "495                          please give me one moment   \n",
              "496  thank you for your patience ive reviewed your ...   \n",
              "497  can you please tell me the shipping status of ...   \n",
              "498  ok no problem ive already removed the extra it...   \n",
              "499  thank you i sincerely apologize for the inconv...   \n",
              "\n",
              "                    cleaned_text_of_agent_for_clusters  cluster_for_agent  \n",
              "0                                                   hi                 42  \n",
              "1                                   how can i help you                 68  \n",
              "2                     sure may i have your name please                214  \n",
              "3           thanks may i ask the reason for the return                178  \n",
              "4    ok may i have your username email address and ...                 95  \n",
              "..                                                 ...                ...  \n",
              "495                          please give me one moment                123  \n",
              "496  thank you for your patience ive reviewed your ...                113  \n",
              "497  can you please tell me the shipping status of ...                300  \n",
              "498  ok no problem ive already removed the extra it...                138  \n",
              "499  thank you i sincerely apologize for the inconv...                305  \n",
              "\n",
              "[500 rows x 10 columns]"
            ],
            "text/html": [
              "\n",
              "  <div id=\"df-6f91a30f-8eeb-482e-a88c-c60b33c76c7f\">\n",
              "    <div class=\"colab-df-container\">\n",
              "      <div>\n",
              "<style scoped>\n",
              "    .dataframe tbody tr th:only-of-type {\n",
              "        vertical-align: middle;\n",
              "    }\n",
              "\n",
              "    .dataframe tbody tr th {\n",
              "        vertical-align: top;\n",
              "    }\n",
              "\n",
              "    .dataframe thead th {\n",
              "        text-align: right;\n",
              "    }\n",
              "</style>\n",
              "<table border=\"1\" class=\"dataframe\">\n",
              "  <thead>\n",
              "    <tr style=\"text-align: right;\">\n",
              "      <th></th>\n",
              "      <th>Unnamed: 0</th>\n",
              "      <th>text_agent</th>\n",
              "      <th>category_agent</th>\n",
              "      <th>sub-category_agent</th>\n",
              "      <th>speaker_customer</th>\n",
              "      <th>text_customer</th>\n",
              "      <th>clean _text_agent</th>\n",
              "      <th>clean_text_agent_corpus</th>\n",
              "      <th>cleaned_text_of_agent_for_clusters</th>\n",
              "      <th>cluster_for_agent</th>\n",
              "    </tr>\n",
              "  </thead>\n",
              "  <tbody>\n",
              "    <tr>\n",
              "      <th>0</th>\n",
              "      <td>0</td>\n",
              "      <td>hi!</td>\n",
              "      <td>product_defect</td>\n",
              "      <td>return_size</td>\n",
              "      <td>customer</td>\n",
              "      <td>hi! i need to return an item, can you help me ...</td>\n",
              "      <td>hi</td>\n",
              "      <td>hi</td>\n",
              "      <td>hi</td>\n",
              "      <td>42</td>\n",
              "    </tr>\n",
              "    <tr>\n",
              "      <th>1</th>\n",
              "      <td>1</td>\n",
              "      <td>how can i help you?</td>\n",
              "      <td>product_defect</td>\n",
              "      <td>return_size</td>\n",
              "      <td>customer</td>\n",
              "      <td>crystal minh</td>\n",
              "      <td>how can i help you</td>\n",
              "      <td>how can i help you</td>\n",
              "      <td>how can i help you</td>\n",
              "      <td>68</td>\n",
              "    </tr>\n",
              "    <tr>\n",
              "      <th>2</th>\n",
              "      <td>2</td>\n",
              "      <td>sure, may i have your name please?</td>\n",
              "      <td>product_defect</td>\n",
              "      <td>return_size</td>\n",
              "      <td>customer</td>\n",
              "      <td>i got the wrong size.</td>\n",
              "      <td>sure may i have your name please</td>\n",
              "      <td>sure may i have your name please</td>\n",
              "      <td>sure may i have your name please</td>\n",
              "      <td>214</td>\n",
              "    </tr>\n",
              "    <tr>\n",
              "      <th>3</th>\n",
              "      <td>3</td>\n",
              "      <td>thanks, may i ask the reason for the return?</td>\n",
              "      <td>product_defect</td>\n",
              "      <td>return_size</td>\n",
              "      <td>customer</td>\n",
              "      <td>username: &lt;username&gt;</td>\n",
              "      <td>thanks may i ask the reason for the return</td>\n",
              "      <td>thanks may i ask the reason for the return</td>\n",
              "      <td>thanks may i ask the reason for the return</td>\n",
              "      <td>178</td>\n",
              "    </tr>\n",
              "    <tr>\n",
              "      <th>4</th>\n",
              "      <td>4</td>\n",
              "      <td>ok, may i have your username, email address an...</td>\n",
              "      <td>product_defect</td>\n",
              "      <td>return_size</td>\n",
              "      <td>customer</td>\n",
              "      <td>&lt;email&gt;</td>\n",
              "      <td>ok may i have your username email address and ...</td>\n",
              "      <td>ok may i have your username email address and ...</td>\n",
              "      <td>ok may i have your username email address and ...</td>\n",
              "      <td>95</td>\n",
              "    </tr>\n",
              "    <tr>\n",
              "      <th>...</th>\n",
              "      <td>...</td>\n",
              "      <td>...</td>\n",
              "      <td>...</td>\n",
              "      <td>...</td>\n",
              "      <td>...</td>\n",
              "      <td>...</td>\n",
              "      <td>...</td>\n",
              "      <td>...</td>\n",
              "      <td>...</td>\n",
              "      <td>...</td>\n",
              "    </tr>\n",
              "    <tr>\n",
              "      <th>495</th>\n",
              "      <td>495</td>\n",
              "      <td>please give me one moment.</td>\n",
              "      <td>order_issue</td>\n",
              "      <td>status_quantity</td>\n",
              "      <td>customer</td>\n",
              "      <td>email address: &lt;email&gt;</td>\n",
              "      <td>please give me one moment</td>\n",
              "      <td>please give me one moment</td>\n",
              "      <td>please give me one moment</td>\n",
              "      <td>123</td>\n",
              "    </tr>\n",
              "    <tr>\n",
              "      <th>496</th>\n",
              "      <td>496</td>\n",
              "      <td>thank you for your patience. i've reviewed you...</td>\n",
              "      <td>order_issue</td>\n",
              "      <td>status_quantity</td>\n",
              "      <td>customer</td>\n",
              "      <td>my email stating that i have a refund of $100 ...</td>\n",
              "      <td>thank you for your patience ive reviewed your ...</td>\n",
              "      <td>thank you for your patience ive reviewed your ...</td>\n",
              "      <td>thank you for your patience ive reviewed your ...</td>\n",
              "      <td>113</td>\n",
              "    </tr>\n",
              "    <tr>\n",
              "      <th>497</th>\n",
              "      <td>497</td>\n",
              "      <td>can you please tell me the shipping status of ...</td>\n",
              "      <td>order_issue</td>\n",
              "      <td>status_quantity</td>\n",
              "      <td>customer</td>\n",
              "      <td>im sorry no i would like to get a refund on th...</td>\n",
              "      <td>can you please tell me the shipping status of ...</td>\n",
              "      <td>can you please tell me the shipping status of ...</td>\n",
              "      <td>can you please tell me the shipping status of ...</td>\n",
              "      <td>300</td>\n",
              "    </tr>\n",
              "    <tr>\n",
              "      <th>498</th>\n",
              "      <td>498</td>\n",
              "      <td>ok, no problem. i've already removed the extra...</td>\n",
              "      <td>order_issue</td>\n",
              "      <td>status_quantity</td>\n",
              "      <td>customer</td>\n",
              "      <td>ok</td>\n",
              "      <td>ok no problem ive already removed the extra it...</td>\n",
              "      <td>ok no problem ive already removed the extra it...</td>\n",
              "      <td>ok no problem ive already removed the extra it...</td>\n",
              "      <td>138</td>\n",
              "    </tr>\n",
              "    <tr>\n",
              "      <th>499</th>\n",
              "      <td>499</td>\n",
              "      <td>thank you. i sincerely apologize for the incon...</td>\n",
              "      <td>order_issue</td>\n",
              "      <td>status_quantity</td>\n",
              "      <td>customer</td>\n",
              "      <td>that will be all thank you</td>\n",
              "      <td>thank you i sincerely apologize for the inconv...</td>\n",
              "      <td>thank you i sincerely apologize for the inconv...</td>\n",
              "      <td>thank you i sincerely apologize for the inconv...</td>\n",
              "      <td>305</td>\n",
              "    </tr>\n",
              "  </tbody>\n",
              "</table>\n",
              "<p>500 rows × 10 columns</p>\n",
              "</div>\n",
              "      <button class=\"colab-df-convert\" onclick=\"convertToInteractive('df-6f91a30f-8eeb-482e-a88c-c60b33c76c7f')\"\n",
              "              title=\"Convert this dataframe to an interactive table.\"\n",
              "              style=\"display:none;\">\n",
              "        \n",
              "  <svg xmlns=\"http://www.w3.org/2000/svg\" height=\"24px\"viewBox=\"0 0 24 24\"\n",
              "       width=\"24px\">\n",
              "    <path d=\"M0 0h24v24H0V0z\" fill=\"none\"/>\n",
              "    <path d=\"M18.56 5.44l.94 2.06.94-2.06 2.06-.94-2.06-.94-.94-2.06-.94 2.06-2.06.94zm-11 1L8.5 8.5l.94-2.06 2.06-.94-2.06-.94L8.5 2.5l-.94 2.06-2.06.94zm10 10l.94 2.06.94-2.06 2.06-.94-2.06-.94-.94-2.06-.94 2.06-2.06.94z\"/><path d=\"M17.41 7.96l-1.37-1.37c-.4-.4-.92-.59-1.43-.59-.52 0-1.04.2-1.43.59L10.3 9.45l-7.72 7.72c-.78.78-.78 2.05 0 2.83L4 21.41c.39.39.9.59 1.41.59.51 0 1.02-.2 1.41-.59l7.78-7.78 2.81-2.81c.8-.78.8-2.07 0-2.86zM5.41 20L4 18.59l7.72-7.72 1.47 1.35L5.41 20z\"/>\n",
              "  </svg>\n",
              "      </button>\n",
              "      \n",
              "  <style>\n",
              "    .colab-df-container {\n",
              "      display:flex;\n",
              "      flex-wrap:wrap;\n",
              "      gap: 12px;\n",
              "    }\n",
              "\n",
              "    .colab-df-convert {\n",
              "      background-color: #E8F0FE;\n",
              "      border: none;\n",
              "      border-radius: 50%;\n",
              "      cursor: pointer;\n",
              "      display: none;\n",
              "      fill: #1967D2;\n",
              "      height: 32px;\n",
              "      padding: 0 0 0 0;\n",
              "      width: 32px;\n",
              "    }\n",
              "\n",
              "    .colab-df-convert:hover {\n",
              "      background-color: #E2EBFA;\n",
              "      box-shadow: 0px 1px 2px rgba(60, 64, 67, 0.3), 0px 1px 3px 1px rgba(60, 64, 67, 0.15);\n",
              "      fill: #174EA6;\n",
              "    }\n",
              "\n",
              "    [theme=dark] .colab-df-convert {\n",
              "      background-color: #3B4455;\n",
              "      fill: #D2E3FC;\n",
              "    }\n",
              "\n",
              "    [theme=dark] .colab-df-convert:hover {\n",
              "      background-color: #434B5C;\n",
              "      box-shadow: 0px 1px 3px 1px rgba(0, 0, 0, 0.15);\n",
              "      filter: drop-shadow(0px 1px 2px rgba(0, 0, 0, 0.3));\n",
              "      fill: #FFFFFF;\n",
              "    }\n",
              "  </style>\n",
              "\n",
              "      <script>\n",
              "        const buttonEl =\n",
              "          document.querySelector('#df-6f91a30f-8eeb-482e-a88c-c60b33c76c7f button.colab-df-convert');\n",
              "        buttonEl.style.display =\n",
              "          google.colab.kernel.accessAllowed ? 'block' : 'none';\n",
              "\n",
              "        async function convertToInteractive(key) {\n",
              "          const element = document.querySelector('#df-6f91a30f-8eeb-482e-a88c-c60b33c76c7f');\n",
              "          const dataTable =\n",
              "            await google.colab.kernel.invokeFunction('convertToInteractive',\n",
              "                                                     [key], {});\n",
              "          if (!dataTable) return;\n",
              "\n",
              "          const docLinkHtml = 'Like what you see? Visit the ' +\n",
              "            '<a target=\"_blank\" href=https://colab.research.google.com/notebooks/data_table.ipynb>data table notebook</a>'\n",
              "            + ' to learn more about interactive tables.';\n",
              "          element.innerHTML = '';\n",
              "          dataTable['output_type'] = 'display_data';\n",
              "          await google.colab.output.renderOutput(dataTable, element);\n",
              "          const docLink = document.createElement('div');\n",
              "          docLink.innerHTML = docLinkHtml;\n",
              "          element.appendChild(docLink);\n",
              "        }\n",
              "      </script>\n",
              "    </div>\n",
              "  </div>\n",
              "  "
            ]
          },
          "metadata": {},
          "execution_count": 43
        }
      ]
    },
    {
      "cell_type": "code",
      "source": [
        "y = df['cluster_for_agent']\n",
        "X = df['text_customer']\n",
        "# X = df.drop('cluster_for_agent', axis=1) \n",
        "#ValueError: Found input variables with inconsistent numbers of samples: [9, 400]"
      ],
      "metadata": {
        "id": "afC8mUnXhZnV"
      },
      "execution_count": null,
      "outputs": []
    },
    {
      "cell_type": "code",
      "source": [
        "import pandas as pd\n",
        "from sklearn.model_selection import train_test_split\n",
        "from sklearn.linear_model import LogisticRegression\n",
        "from sklearn.feature_extraction.text import CountVectorizer,TfidfVectorizer\n",
        "\n",
        "X_train,X_test,y_train,y_test = train_test_split(X,y, test_size = 0.20, random_state = 123)"
      ],
      "metadata": {
        "id": "UnNhRCDMiDQi"
      },
      "execution_count": null,
      "outputs": []
    },
    {
      "cell_type": "code",
      "source": [
        "\n",
        "#Logistic Regression \n",
        "\n",
        "\n",
        "\n",
        "tfidf_vectorizer = TfidfVectorizer()\n",
        "\n",
        "# 2. Fit the vectorizer to X_train\n",
        "# YOUR CODE HERE\n",
        "X_train_tfidf =tfidf_vectorizer.fit_transform(X_train)\n",
        "X_train_tfidf = X_train_tfidf.toarray()\n",
        "# 3. Using the fitted vectorizer, transform the training data and save the data to variable 'X_train_tfidf'\n",
        "# YOUR CODE HERE\n",
        "#X_train_tfidf = tfidf_vectorizer.fit_transform(X_train)\n",
        "\n",
        "# 4. Using the fitted vectorizer, transform the test data and save the data to variable 'X_test_tfidf'\n",
        "# YOUR CODE HERE\n",
        "X_test_tfidf = tfidf_vectorizer.transform(X_test)"
      ],
      "metadata": {
        "id": "qUkONguIiGTa"
      },
      "execution_count": null,
      "outputs": []
    },
    {
      "cell_type": "code",
      "source": [
        "from sklearn.metrics import roc_auc_score\n",
        "\n",
        "# 1. Create the LogisticRegression model object \n",
        "# YOUR CODE HERE\n",
        "model = LogisticRegression(max_iter=200)\n",
        "\n",
        "# 2. Fit the model to the transformed training data\n",
        "# YOUR CODE HERE\n",
        "model.fit(X_train_tfidf, y_train)\n",
        "\n",
        "# 3. Use the predict_proba() method to make predictions on the test data \n",
        "# YOUR CODE HERE\n",
        "pred_log = model.predict(X_test_tfidf)"
      ],
      "metadata": {
        "id": "oNAnBeAOiMvb"
      },
      "execution_count": null,
      "outputs": []
    },
    {
      "cell_type": "code",
      "source": [
        "from sklearn.metrics import confusion_matrix\n",
        "confusion_matrix(y_test, pred_log)"
      ],
      "metadata": {
        "colab": {
          "base_uri": "https://localhost:8080/"
        },
        "id": "TCdgJc1NiNgn",
        "outputId": "cbe09835-a893-4380-9626-cf9e037cc2ba"
      },
      "execution_count": null,
      "outputs": [
        {
          "output_type": "execute_result",
          "data": {
            "text/plain": [
              "array([[0, 0, 0, ..., 0, 0, 0],\n",
              "       [0, 0, 0, ..., 0, 0, 0],\n",
              "       [0, 0, 0, ..., 0, 0, 0],\n",
              "       ...,\n",
              "       [0, 0, 0, ..., 0, 0, 0],\n",
              "       [0, 0, 0, ..., 0, 0, 0],\n",
              "       [0, 0, 0, ..., 0, 0, 0]])"
            ]
          },
          "metadata": {},
          "execution_count": 17
        }
      ]
    },
    {
      "cell_type": "code",
      "source": [
        "from sklearn.metrics import precision_score, recall_score, f1_score\n",
        "precision = precision_score(y_test, pred_log,average='micro') # How much Virigincia iris are correctly identified?\n",
        "recall = recall_score(y_test, pred_log,average='micro') # How much Virginica predictions are correct?\n",
        "f1 = f1_score(y_test, pred_log,average='micro')\n",
        "print(precision, recall, f1)"
      ],
      "metadata": {
        "colab": {
          "base_uri": "https://localhost:8080/"
        },
        "id": "BIfrWdshiQwJ",
        "outputId": "3aa34e36-06ee-4e8e-8474-8efadd5b704c"
      },
      "execution_count": null,
      "outputs": [
        {
          "output_type": "stream",
          "name": "stdout",
          "text": [
            "0.0 0.0 0.0\n"
          ]
        }
      ]
    },
    {
      "cell_type": "code",
      "source": [
        "acc_log = round(model.score(X_train_tfidf, y_train) * 100, 2)\n",
        "acc_log"
      ],
      "metadata": {
        "colab": {
          "base_uri": "https://localhost:8080/"
        },
        "id": "vrr83umEiT5v",
        "outputId": "fdf607b9-e2d1-4997-8c0f-a440bebfa570"
      },
      "execution_count": null,
      "outputs": [
        {
          "output_type": "execute_result",
          "data": {
            "text/plain": [
              "14.25"
            ]
          },
          "metadata": {},
          "execution_count": 19
        }
      ]
    },
    {
      "cell_type": "code",
      "source": [
        "from sklearn.ensemble import RandomForestClassifier\n",
        "random_forest = RandomForestClassifier(n_estimators = 100)\n",
        "random_forest.fit(X_train_tfidf, y_train)\n",
        "pred_random_forest = random_forest.predict(X_test_tfidf)\n",
        "acc_random_forest = round(random_forest.score(X_train_tfidf, y_train) * 100, 2)\n",
        "acc_random_forest"
      ],
      "metadata": {
        "colab": {
          "base_uri": "https://localhost:8080/"
        },
        "id": "PHHXq-WMiXIl",
        "outputId": "c96b0f20-711c-4bb6-a98a-27cb81ea759a"
      },
      "execution_count": null,
      "outputs": [
        {
          "output_type": "execute_result",
          "data": {
            "text/plain": [
              "75.5"
            ]
          },
          "metadata": {},
          "execution_count": 20
        }
      ]
    },
    {
      "cell_type": "code",
      "source": [
        "from sklearn.model_selection import train_test_split\n",
        "from sklearn.feature_extraction.text import CountVectorizer\n",
        "from sklearn.feature_extraction.text import TfidfTransformer\n",
        "from sklearn.naive_bayes import MultinomialNB\n",
        "X_train, X_test, y_train, y_test = train_test_split(df['text_agent'], df['cluster_for_agent'], random_state = 0)\n",
        "count_vect = CountVectorizer()\n",
        "X_train_counts = count_vect.fit_transform(X_train)\n",
        "tfidf_transformer = TfidfTransformer()\n",
        "X_train_tfidf = tfidf_transformer.fit_transform(X_train_counts)\n",
        "clf = MultinomialNB().fit(X_train_tfidf, y_train)"
      ],
      "metadata": {
        "id": "_iKoV6WciZ_W"
      },
      "execution_count": null,
      "outputs": []
    },
    {
      "cell_type": "code",
      "source": [
        "cluster_for_agent = clf.predict(count_vect.transform([\" Thank you for your time! I will cal you later\"]))\n",
        "print(cluster_for_agent)"
      ],
      "metadata": {
        "colab": {
          "base_uri": "https://localhost:8080/"
        },
        "id": "1KQYdVbmiiGx",
        "outputId": "a09c829c-9724-4a72-867d-5c96575e2bdd"
      },
      "execution_count": null,
      "outputs": [
        {
          "output_type": "stream",
          "name": "stdout",
          "text": [
            "[18]\n"
          ]
        }
      ]
    },
    {
      "cell_type": "code",
      "source": [
        "df['cleaned_text_of_agent_for_clusters'][18]"
      ],
      "metadata": {
        "colab": {
          "base_uri": "https://localhost:8080/",
          "height": 36
        },
        "id": "RW5rw-VQjzKv",
        "outputId": "6e1f3ab4-1f2e-42aa-b720-6d6f1526eae1"
      },
      "execution_count": null,
      "outputs": [
        {
          "output_type": "execute_result",
          "data": {
            "text/plain": [
              "'less than a week'"
            ],
            "application/vnd.google.colaboratory.intrinsic+json": {
              "type": "string"
            }
          },
          "metadata": {},
          "execution_count": 38
        }
      ]
    }
  ],
  "metadata": {
    "colab": {
      "provenance": [],
      "machine_shape": "hm"
    },
    "gpuClass": "premium",
    "kernelspec": {
      "display_name": "Python 3",
      "name": "python3"
    },
    "language_info": {
      "name": "python"
    },
    "accelerator": "GPU"
  },
  "nbformat": 4,
  "nbformat_minor": 0
}